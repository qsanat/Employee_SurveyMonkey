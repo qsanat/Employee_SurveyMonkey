{
  "metadata": {
    "language_info": {
      "codemirror_mode": {
        "name": "ipython",
        "version": 3
      },
      "file_extension": ".py",
      "mimetype": "text/x-python",
      "name": "python",
      "nbconvert_exporter": "python",
      "pygments_lexer": "ipython3",
      "version": "3.8.5-final"
    },
    "orig_nbformat": 2,
    "kernelspec": {
      "name": "python3",
      "display_name": "Python 3.8.5 64-bit ('minimal_ds': conda)",
      "metadata": {
        "interpreter": {
          "hash": "8c8ddd27e64e4dc8cecdef6b2dd18aa6e5d748d6b7d639627995056072287257"
        }
      }
    },
    "colab": {
      "name": "Script1 - Data_Manipulation.ipynb",
      "provenance": [],
      "include_colab_link": true
    }
  },
  "nbformat": 4,
  "nbformat_minor": 0,
  "cells": [
    {
      "cell_type": "markdown",
      "metadata": {
        "id": "view-in-github",
        "colab_type": "text"
      },
      "source": [
        "<a href=\"https://colab.research.google.com/github/qsanat/Employee_SurveyMonkey/blob/main/Script1%20-%20Data_Manipulation.ipynb\" target=\"_parent\"><img src=\"https://colab.research.google.com/assets/colab-badge.svg\" alt=\"Open In Colab\"/></a>"
      ]
    },
    {
      "cell_type": "code",
      "execution_count": 19,
      "metadata": {
        "id": "HZNqpbbyLjUx"
      },
      "outputs": [],
      "source": [
        "import pandas as pd\n",
        "import os"
      ]
    },
    {
      "cell_type": "code",
      "execution_count": 20,
      "metadata": {
        "id": "CvVe05t-LjU4"
      },
      "outputs": [],
      "source": [
        "# pwd = os.getcwd()"
      ]
    },
    {
      "cell_type": "code",
      "execution_count": 21,
      "metadata": {
        "colab": {
          "base_uri": "https://localhost:8080/"
        },
        "id": "4C5v9Ot4LjU5",
        "outputId": "d32be041-6d9a-49ce-dc29-6c9816f79eb0"
      },
      "outputs": [
        {
          "output_type": "stream",
          "name": "stdout",
          "text": [
            "fatal: destination path 'Employee_SurveyMonkey' already exists and is not an empty directory.\n"
          ]
        }
      ],
      "source": [
        "# dataset = pd.read_excel(pwd + \"/Data - Survey Monkey Output Edited.xlsx\", sheet_name=\"Edited_Data\")\n",
        "!git clone https://github.com/qsanat/Employee_SurveyMonkey\n",
        "dataset= pd.read_excel('/content/Employee_SurveyMonkey/Data_Edited.xlsx',sheet_name='Edited_Data')"
      ]
    },
    {
      "cell_type": "code",
      "execution_count": 22,
      "metadata": {
        "id": "FNwdtAFpLjU7"
      },
      "outputs": [],
      "source": [
        "dataset_modified = dataset.copy()\n",
        "# dataset_modified"
      ]
    },
    {
      "cell_type": "code",
      "execution_count": 23,
      "metadata": {
        "id": "Wo-vsw6tLjU8"
      },
      "outputs": [],
      "source": [
        "columns_to_drop = ['Start Date', 'End Date', 'Email Address', 'First Name', 'Last Name', 'Custom Data 1']\n",
        "# columns_to_drop"
      ]
    },
    {
      "cell_type": "code",
      "execution_count": 24,
      "metadata": {
        "id": "M_wveG1KLjU-"
      },
      "outputs": [],
      "source": [
        "dataset_modified = dataset_modified.drop(columns=columns_to_drop)\n",
        "# dataset_modified"
      ]
    },
    {
      "cell_type": "code",
      "execution_count": 25,
      "metadata": {
        "id": "l6S36UMrLjU_"
      },
      "outputs": [],
      "source": [
        "id_vars = list(dataset_modified.columns)[ : 8]\n",
        "value_vars = list(dataset_modified.columns)[8 : ]\n",
        "# value_vars"
      ]
    },
    {
      "cell_type": "code",
      "execution_count": 39,
      "metadata": {
        "colab": {
          "base_uri": "https://localhost:8080/",
          "height": 971
        },
        "id": "s6b9RreyLjVA",
        "outputId": "86376b5d-012c-47e8-e332-02f9567a1bf8"
      },
      "outputs": [
        {
          "output_type": "execute_result",
          "data": {
            "text/plain": [
              "       Respondent ID Identify which division you work in. - Response  \\\n",
              "0         5379192392                                  Infrastructure   \n",
              "1         2658722536                                         Finance   \n",
              "2         4044163394                                  Infrastructure   \n",
              "3         5535865599                                  Infrastructure   \n",
              "4         3356802928                                 Port Operations   \n",
              "...              ...                                             ...   \n",
              "17023     7940065082                                  Infrastructure   \n",
              "17024     5157705612                                         Finance   \n",
              "17025     9920755555                                 Port Operations   \n",
              "17026     6638341389                                  Infrastructure   \n",
              "17027     8114622230                          Information Technology   \n",
              "\n",
              "      Identify which division you work in. - Other (please specify)  \\\n",
              "0                                                    NaN              \n",
              "1                                                    NaN              \n",
              "2                                                    NaN              \n",
              "3                                                    NaN              \n",
              "4                                                    NaN              \n",
              "...                                                  ...              \n",
              "17023                                                NaN              \n",
              "17024                                                NaN              \n",
              "17025                                                NaN              \n",
              "17026                                                NaN              \n",
              "17027                                                NaN              \n",
              "\n",
              "      Which of the following best describes your position level? - Response  \\\n",
              "0                                                  Staff                      \n",
              "1                                                  Staff                      \n",
              "2                                        Department Lead                      \n",
              "3                                                Manager                      \n",
              "4                                                Manager                      \n",
              "...                                                  ...                      \n",
              "17023                                    Department Lead                      \n",
              "17024                                              Staff                      \n",
              "17025                                              Staff                      \n",
              "17026                                            Manager                      \n",
              "17027                                              Staff                      \n",
              "\n",
              "      Which generation are you apart of? - Response  \\\n",
              "0             Generation X (born between 1965-1980)   \n",
              "1                                               NaN   \n",
              "2             Generation X (born between 1965-1980)   \n",
              "3               Millennial (born between 1981-2000)   \n",
              "4             Generation X (born between 1965-1980)   \n",
              "...                                             ...   \n",
              "17023          Baby Boomer (born between 1946-1964)   \n",
              "17024           Millennial (born between 1981-2000)   \n",
              "17025           Millennial (born between 1981-2000)   \n",
              "17026           Millennial (born between 1981-2000)   \n",
              "17027                          Prefer not to answer   \n",
              "\n",
              "      Please select the gender in which you identify. - Response  \\\n",
              "0                                                   Male           \n",
              "1                                                    NaN           \n",
              "2                                                   Male           \n",
              "3                                             Non-Binary           \n",
              "4                                                 Female           \n",
              "...                                                  ...           \n",
              "17023                                               Male           \n",
              "17024                                             Female           \n",
              "17025                                             Female           \n",
              "17026                                             Female           \n",
              "17027                                               Male           \n",
              "\n",
              "      Which duration range best aligns with your tenure at your company? - Response  \\\n",
              "0                                              0-2 years                              \n",
              "1                                              10+ years                              \n",
              "2                                              3-5 years                              \n",
              "3                                             5-10 years                              \n",
              "4                                              10+ years                              \n",
              "...                                                  ...                              \n",
              "17023                                          10+ years                              \n",
              "17024                                         5-10 years                              \n",
              "17025                                          3-5 years                              \n",
              "17026                                          3-5 years                              \n",
              "17027                                         5-10 years                              \n",
              "\n",
              "      Which of the following best describes your employment type? - Response  \\\n",
              "0                                     Full time Employee                       \n",
              "1                                     Full time Employee                       \n",
              "2                                     Full time Employee                       \n",
              "3                                     Full time Employee                       \n",
              "4                                     Full time Employee                       \n",
              "...                                                  ...                       \n",
              "17023                                 Full time Employee                       \n",
              "17024                                 Full time Employee                       \n",
              "17025                                 Full time Employee                       \n",
              "17026                                 Full time Employee                       \n",
              "17027                                 Full time Employee                       \n",
              "\n",
              "                            QnS    Answer  \n",
              "0         Question 1 - Response       NaN  \n",
              "1         Question 1 - Response  Answer 4  \n",
              "2         Question 1 - Response  Answer 5  \n",
              "3         Question 1 - Response  Answer 1  \n",
              "4         Question 1 - Response       NaN  \n",
              "...                         ...       ...  \n",
              "17023  Question 30 - Response 3  Answer 8  \n",
              "17024  Question 30 - Response 3  Answer 6  \n",
              "17025  Question 30 - Response 3       NaN  \n",
              "17026  Question 30 - Response 3       NaN  \n",
              "17027  Question 30 - Response 3       NaN  \n",
              "\n",
              "[17028 rows x 10 columns]"
            ],
            "text/html": [
              "\n",
              "  <div id=\"df-eef9bfe2-27b0-46bd-8033-c6c5d416e2d5\">\n",
              "    <div class=\"colab-df-container\">\n",
              "      <div>\n",
              "<style scoped>\n",
              "    .dataframe tbody tr th:only-of-type {\n",
              "        vertical-align: middle;\n",
              "    }\n",
              "\n",
              "    .dataframe tbody tr th {\n",
              "        vertical-align: top;\n",
              "    }\n",
              "\n",
              "    .dataframe thead th {\n",
              "        text-align: right;\n",
              "    }\n",
              "</style>\n",
              "<table border=\"1\" class=\"dataframe\">\n",
              "  <thead>\n",
              "    <tr style=\"text-align: right;\">\n",
              "      <th></th>\n",
              "      <th>Respondent ID</th>\n",
              "      <th>Identify which division you work in. - Response</th>\n",
              "      <th>Identify which division you work in. - Other (please specify)</th>\n",
              "      <th>Which of the following best describes your position level? - Response</th>\n",
              "      <th>Which generation are you apart of? - Response</th>\n",
              "      <th>Please select the gender in which you identify. - Response</th>\n",
              "      <th>Which duration range best aligns with your tenure at your company? - Response</th>\n",
              "      <th>Which of the following best describes your employment type? - Response</th>\n",
              "      <th>QnS</th>\n",
              "      <th>Answer</th>\n",
              "    </tr>\n",
              "  </thead>\n",
              "  <tbody>\n",
              "    <tr>\n",
              "      <th>0</th>\n",
              "      <td>5379192392</td>\n",
              "      <td>Infrastructure</td>\n",
              "      <td>NaN</td>\n",
              "      <td>Staff</td>\n",
              "      <td>Generation X (born between 1965-1980)</td>\n",
              "      <td>Male</td>\n",
              "      <td>0-2 years</td>\n",
              "      <td>Full time Employee</td>\n",
              "      <td>Question 1 - Response</td>\n",
              "      <td>NaN</td>\n",
              "    </tr>\n",
              "    <tr>\n",
              "      <th>1</th>\n",
              "      <td>2658722536</td>\n",
              "      <td>Finance</td>\n",
              "      <td>NaN</td>\n",
              "      <td>Staff</td>\n",
              "      <td>NaN</td>\n",
              "      <td>NaN</td>\n",
              "      <td>10+ years</td>\n",
              "      <td>Full time Employee</td>\n",
              "      <td>Question 1 - Response</td>\n",
              "      <td>Answer 4</td>\n",
              "    </tr>\n",
              "    <tr>\n",
              "      <th>2</th>\n",
              "      <td>4044163394</td>\n",
              "      <td>Infrastructure</td>\n",
              "      <td>NaN</td>\n",
              "      <td>Department Lead</td>\n",
              "      <td>Generation X (born between 1965-1980)</td>\n",
              "      <td>Male</td>\n",
              "      <td>3-5 years</td>\n",
              "      <td>Full time Employee</td>\n",
              "      <td>Question 1 - Response</td>\n",
              "      <td>Answer 5</td>\n",
              "    </tr>\n",
              "    <tr>\n",
              "      <th>3</th>\n",
              "      <td>5535865599</td>\n",
              "      <td>Infrastructure</td>\n",
              "      <td>NaN</td>\n",
              "      <td>Manager</td>\n",
              "      <td>Millennial (born between 1981-2000)</td>\n",
              "      <td>Non-Binary</td>\n",
              "      <td>5-10 years</td>\n",
              "      <td>Full time Employee</td>\n",
              "      <td>Question 1 - Response</td>\n",
              "      <td>Answer 1</td>\n",
              "    </tr>\n",
              "    <tr>\n",
              "      <th>4</th>\n",
              "      <td>3356802928</td>\n",
              "      <td>Port Operations</td>\n",
              "      <td>NaN</td>\n",
              "      <td>Manager</td>\n",
              "      <td>Generation X (born between 1965-1980)</td>\n",
              "      <td>Female</td>\n",
              "      <td>10+ years</td>\n",
              "      <td>Full time Employee</td>\n",
              "      <td>Question 1 - Response</td>\n",
              "      <td>NaN</td>\n",
              "    </tr>\n",
              "    <tr>\n",
              "      <th>...</th>\n",
              "      <td>...</td>\n",
              "      <td>...</td>\n",
              "      <td>...</td>\n",
              "      <td>...</td>\n",
              "      <td>...</td>\n",
              "      <td>...</td>\n",
              "      <td>...</td>\n",
              "      <td>...</td>\n",
              "      <td>...</td>\n",
              "      <td>...</td>\n",
              "    </tr>\n",
              "    <tr>\n",
              "      <th>17023</th>\n",
              "      <td>7940065082</td>\n",
              "      <td>Infrastructure</td>\n",
              "      <td>NaN</td>\n",
              "      <td>Department Lead</td>\n",
              "      <td>Baby Boomer (born between 1946-1964)</td>\n",
              "      <td>Male</td>\n",
              "      <td>10+ years</td>\n",
              "      <td>Full time Employee</td>\n",
              "      <td>Question 30 - Response 3</td>\n",
              "      <td>Answer 8</td>\n",
              "    </tr>\n",
              "    <tr>\n",
              "      <th>17024</th>\n",
              "      <td>5157705612</td>\n",
              "      <td>Finance</td>\n",
              "      <td>NaN</td>\n",
              "      <td>Staff</td>\n",
              "      <td>Millennial (born between 1981-2000)</td>\n",
              "      <td>Female</td>\n",
              "      <td>5-10 years</td>\n",
              "      <td>Full time Employee</td>\n",
              "      <td>Question 30 - Response 3</td>\n",
              "      <td>Answer 6</td>\n",
              "    </tr>\n",
              "    <tr>\n",
              "      <th>17025</th>\n",
              "      <td>9920755555</td>\n",
              "      <td>Port Operations</td>\n",
              "      <td>NaN</td>\n",
              "      <td>Staff</td>\n",
              "      <td>Millennial (born between 1981-2000)</td>\n",
              "      <td>Female</td>\n",
              "      <td>3-5 years</td>\n",
              "      <td>Full time Employee</td>\n",
              "      <td>Question 30 - Response 3</td>\n",
              "      <td>NaN</td>\n",
              "    </tr>\n",
              "    <tr>\n",
              "      <th>17026</th>\n",
              "      <td>6638341389</td>\n",
              "      <td>Infrastructure</td>\n",
              "      <td>NaN</td>\n",
              "      <td>Manager</td>\n",
              "      <td>Millennial (born between 1981-2000)</td>\n",
              "      <td>Female</td>\n",
              "      <td>3-5 years</td>\n",
              "      <td>Full time Employee</td>\n",
              "      <td>Question 30 - Response 3</td>\n",
              "      <td>NaN</td>\n",
              "    </tr>\n",
              "    <tr>\n",
              "      <th>17027</th>\n",
              "      <td>8114622230</td>\n",
              "      <td>Information Technology</td>\n",
              "      <td>NaN</td>\n",
              "      <td>Staff</td>\n",
              "      <td>Prefer not to answer</td>\n",
              "      <td>Male</td>\n",
              "      <td>5-10 years</td>\n",
              "      <td>Full time Employee</td>\n",
              "      <td>Question 30 - Response 3</td>\n",
              "      <td>NaN</td>\n",
              "    </tr>\n",
              "  </tbody>\n",
              "</table>\n",
              "<p>17028 rows × 10 columns</p>\n",
              "</div>\n",
              "      <button class=\"colab-df-convert\" onclick=\"convertToInteractive('df-eef9bfe2-27b0-46bd-8033-c6c5d416e2d5')\"\n",
              "              title=\"Convert this dataframe to an interactive table.\"\n",
              "              style=\"display:none;\">\n",
              "        \n",
              "  <svg xmlns=\"http://www.w3.org/2000/svg\" height=\"24px\"viewBox=\"0 0 24 24\"\n",
              "       width=\"24px\">\n",
              "    <path d=\"M0 0h24v24H0V0z\" fill=\"none\"/>\n",
              "    <path d=\"M18.56 5.44l.94 2.06.94-2.06 2.06-.94-2.06-.94-.94-2.06-.94 2.06-2.06.94zm-11 1L8.5 8.5l.94-2.06 2.06-.94-2.06-.94L8.5 2.5l-.94 2.06-2.06.94zm10 10l.94 2.06.94-2.06 2.06-.94-2.06-.94-.94-2.06-.94 2.06-2.06.94z\"/><path d=\"M17.41 7.96l-1.37-1.37c-.4-.4-.92-.59-1.43-.59-.52 0-1.04.2-1.43.59L10.3 9.45l-7.72 7.72c-.78.78-.78 2.05 0 2.83L4 21.41c.39.39.9.59 1.41.59.51 0 1.02-.2 1.41-.59l7.78-7.78 2.81-2.81c.8-.78.8-2.07 0-2.86zM5.41 20L4 18.59l7.72-7.72 1.47 1.35L5.41 20z\"/>\n",
              "  </svg>\n",
              "      </button>\n",
              "      \n",
              "  <style>\n",
              "    .colab-df-container {\n",
              "      display:flex;\n",
              "      flex-wrap:wrap;\n",
              "      gap: 12px;\n",
              "    }\n",
              "\n",
              "    .colab-df-convert {\n",
              "      background-color: #E8F0FE;\n",
              "      border: none;\n",
              "      border-radius: 50%;\n",
              "      cursor: pointer;\n",
              "      display: none;\n",
              "      fill: #1967D2;\n",
              "      height: 32px;\n",
              "      padding: 0 0 0 0;\n",
              "      width: 32px;\n",
              "    }\n",
              "\n",
              "    .colab-df-convert:hover {\n",
              "      background-color: #E2EBFA;\n",
              "      box-shadow: 0px 1px 2px rgba(60, 64, 67, 0.3), 0px 1px 3px 1px rgba(60, 64, 67, 0.15);\n",
              "      fill: #174EA6;\n",
              "    }\n",
              "\n",
              "    [theme=dark] .colab-df-convert {\n",
              "      background-color: #3B4455;\n",
              "      fill: #D2E3FC;\n",
              "    }\n",
              "\n",
              "    [theme=dark] .colab-df-convert:hover {\n",
              "      background-color: #434B5C;\n",
              "      box-shadow: 0px 1px 3px 1px rgba(0, 0, 0, 0.15);\n",
              "      filter: drop-shadow(0px 1px 2px rgba(0, 0, 0, 0.3));\n",
              "      fill: #FFFFFF;\n",
              "    }\n",
              "  </style>\n",
              "\n",
              "      <script>\n",
              "        const buttonEl =\n",
              "          document.querySelector('#df-eef9bfe2-27b0-46bd-8033-c6c5d416e2d5 button.colab-df-convert');\n",
              "        buttonEl.style.display =\n",
              "          google.colab.kernel.accessAllowed ? 'block' : 'none';\n",
              "\n",
              "        async function convertToInteractive(key) {\n",
              "          const element = document.querySelector('#df-eef9bfe2-27b0-46bd-8033-c6c5d416e2d5');\n",
              "          const dataTable =\n",
              "            await google.colab.kernel.invokeFunction('convertToInteractive',\n",
              "                                                     [key], {});\n",
              "          if (!dataTable) return;\n",
              "\n",
              "          const docLinkHtml = 'Like what you see? Visit the ' +\n",
              "            '<a target=\"_blank\" href=https://colab.research.google.com/notebooks/data_table.ipynb>data table notebook</a>'\n",
              "            + ' to learn more about interactive tables.';\n",
              "          element.innerHTML = '';\n",
              "          dataTable['output_type'] = 'display_data';\n",
              "          await google.colab.output.renderOutput(dataTable, element);\n",
              "          const docLink = document.createElement('div');\n",
              "          docLink.innerHTML = docLinkHtml;\n",
              "          element.appendChild(docLink);\n",
              "        }\n",
              "      </script>\n",
              "    </div>\n",
              "  </div>\n",
              "  "
            ]
          },
          "metadata": {},
          "execution_count": 39
        }
      ],
      "source": [
        "dataset_melted = dataset_modified.melt(id_vars=id_vars, value_vars = value_vars, var_name=\"QnS\", value_name=\"Answer\")\n",
        "dataset_melted"
      ]
    },
    {
      "cell_type": "code",
      "execution_count": 40,
      "metadata": {
        "id": "DduOBVYdLjVC"
      },
      "outputs": [],
      "source": [
        "# questions_import = pd.read_excel(pwd + \"/Data - Survey Monkey Output Edited.xlsx\", sheet_name=\"Question\")\n",
        "questions_import=pd.read_excel('/content/Employee_SurveyMonkey/Data_Edited.xlsx',sheet_name='Question')"
      ]
    },
    {
      "cell_type": "code",
      "execution_count": 53,
      "metadata": {
        "id": "7kYPi0DhLjVD"
      },
      "outputs": [],
      "source": [
        "questions = questions_import.copy()\n",
        "questions_drop=questions.drop(columns=['Raw_Question','Raw_Subquestion','Subquestion'])\n"
      ]
    },
    {
      "cell_type": "code",
      "execution_count": 54,
      "metadata": {
        "id": "UVCNrFN9LjVF"
      },
      "outputs": [],
      "source": [
        "# questions_drop.dropna()"
      ]
    },
    {
      "cell_type": "code",
      "execution_count": 68,
      "metadata": {
        "id": "6mNkPrtqLjVF"
      },
      "outputs": [],
      "source": [
        "# questions_drop"
      ]
    },
    {
      "cell_type": "code",
      "execution_count": 66,
      "metadata": {
        "colab": {
          "base_uri": "https://localhost:8080/"
        },
        "id": "jxLduuZALjVG",
        "outputId": "9313cf56-5183-478a-ce91-79f714f99487"
      },
      "outputs": [
        {
          "output_type": "stream",
          "name": "stdout",
          "text": [
            "Original Data 17028\n",
            "Merged Data 17028\n"
          ]
        }
      ],
      "source": [
        "dataset_merged = pd.merge(left= dataset_melted, right= questions_drop, how=\"left\", left_on=\"QnS\", right_on=\"QnS\")\n",
        "print(\"Original Data\", len(dataset_melted))\n",
        "print(\"Merged Data\", len(dataset_merged))\n",
        "# dataset_merged"
      ]
    },
    {
      "cell_type": "code",
      "execution_count": 67,
      "metadata": {
        "id": "AfYFLHMBLjVH"
      },
      "outputs": [],
      "source": [
        "respondents = dataset_merged[dataset_merged[\"Answer\"].notna()]\n",
        "respondents = respondents.groupby(\"Question\")[\"Respondent ID\"].nunique().reset_index()\n",
        "respondents.rename(columns={\"Respondent ID\":\"Respondents\"}, inplace=True)"
      ]
    },
    {
      "cell_type": "code",
      "execution_count": null,
      "metadata": {
        "id": "9l-pWdCTLjVH"
      },
      "outputs": [],
      "source": [
        "dataset_merged_two = pd.merge(left=dataset_merged, right=respondents, how=\"left\", left_on=\"Question\", right_on=\"Question\")\n",
        "print(\"Original Data\", len(dataset_merged))\n",
        "print(\"Merged Data\", len(dataset_merged_two))\n",
        "dataset_merged_two"
      ]
    },
    {
      "cell_type": "code",
      "execution_count": null,
      "metadata": {
        "id": "_3oRRTtMLjVI"
      },
      "outputs": [],
      "source": [
        "same_answer = dataset_merged # [dataset_merged[\"Answer\"].notna()]\n",
        "same_answer = same_answer.groupby([\"Question + Subquestion\", \"Answer\"])[\"Respondent ID\"].nunique().reset_index()\n",
        "same_answer.rename(columns={\"Respondent ID\":\"Same Answer\"}, inplace=True)\n",
        "same_answer"
      ]
    },
    {
      "cell_type": "code",
      "execution_count": null,
      "metadata": {
        "id": "oLdjUBZNLjVJ"
      },
      "outputs": [],
      "source": [
        "dataset_merged_three = pd.merge(left=dataset_merged_two, right=same_answer, how=\"left\", left_on=[\"Question + Subquestion\", \"Answer\"], right_on=[\"Question + Subquestion\", \"Answer\"])\n",
        "dataset_merged_three[\"Same Answer\"].fillna(0, inplace=True)\n",
        "print(\"Original Data\", len(dataset_merged_two))\n",
        "print(\"Merged Data\", len(dataset_merged_three))\n",
        "dataset_merged_three"
      ]
    },
    {
      "cell_type": "code",
      "execution_count": null,
      "metadata": {
        "id": "updDHQj5LjVJ"
      },
      "outputs": [],
      "source": [
        "output = dataset_merged_three.copy()\n",
        "output.rename(columns={\"Identify which division you work in. - Response\":\"Division Primary\", \"Identify which division you work in. - Other (please specify)\":\"Division Secondary\", \"Which of the following best describes your position level? - Response\":\"Position\", \"Which generation are you apart of? - Response\":\"Generation\", \"Please select the gender in which you identify. - Response\":\"Gender\", \"Which duration range best aligns with your tenure at your company? - Response\":\"Tenure\", \"Which of the following best describes your employment type? - Response\":\"Employment Type\"}, inplace=True)\n",
        "output"
      ]
    },
    {
      "cell_type": "code",
      "execution_count": null,
      "metadata": {
        "id": "waDzeMKiLjVK"
      },
      "outputs": [],
      "source": [
        "output.to_excel(pwd + \"/Final_Output.xlsx\", index=False)"
      ]
    },
    {
      "cell_type": "code",
      "source": [
        "arrays = [['Falcon', 'Falcon', 'Parrot', 'Parrot'],['Captive', 'Wild', 'Captive', 'Wild']]\n",
        "index = pd.MultiIndex.from_arrays(arrays, names=('Animal', 'Type'))\n",
        "df = pd.DataFrame({'Max Speed': [390., 350., 30., 20.]},index=index)\n",
        "\n",
        "df.groupby(level=0).mean()\n",
        "# df.groupby(level=\"Type\").mean()\n"
      ],
      "metadata": {
        "id": "tp0O-_OpZDpT"
      },
      "execution_count": null,
      "outputs": []
    },
    {
      "cell_type": "code",
      "execution_count": 63,
      "metadata": {
        "colab": {
          "base_uri": "https://localhost:8080/"
        },
        "id": "KLjZGP6SLjVK",
        "outputId": "ea2e7d70-31ad-4cca-99a0-2fe02c5c5c5c"
      },
      "outputs": [
        {
          "output_type": "execute_result",
          "data": {
            "text/plain": [
              "Animal\n",
              "Falcon    2\n",
              "Parrot    2\n",
              "Name: Max_Speed, dtype: int64"
            ]
          },
          "metadata": {},
          "execution_count": 63
        }
      ],
      "source": [
        "arrays = [['Falcon', 'Falcon', 'Parrot', 'Parrot'],['Captive', 'Wild', 'Captive', 'Wild']]\n",
        "index = pd.MultiIndex.from_arrays(arrays, names=('Animal', 'Type'))\n",
        "df = pd.DataFrame({'Max_Speed': [390., 350., 30., 20.]},index=index)\n",
        "df=df.groupby('Animal')['Max_Speed'].nunique()\n",
        "df"
      ]
    },
    {
      "cell_type": "code",
      "source": [
        ""
      ],
      "metadata": {
        "id": "Ku8hxeqnCrKd"
      },
      "execution_count": null,
      "outputs": []
    }
  ]
}